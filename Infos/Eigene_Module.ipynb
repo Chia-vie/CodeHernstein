{
 "cells": [
  {
   "cell_type": "markdown",
   "source": [
    "# Eigene Module importieren\n",
    "\n",
    "Wir können eigene Module wie bereits gewohnt importieren.\n",
    "\n",
    "Entweder aus dem aktuellen Ordner (current working directory):"
   ],
   "metadata": {
    "collapsed": false,
    "pycharm": {
     "name": "#%% md\n"
    }
   }
  },
  {
   "cell_type": "code",
   "execution_count": 3,
   "outputs": [],
   "source": [
    "from coder import Coder"
   ],
   "metadata": {
    "collapsed": false,
    "pycharm": {
     "name": "#%%\n"
    }
   }
  },
  {
   "cell_type": "markdown",
   "source": [
    "Oder (in Pycharm) ausgehend von der Wurzel `root` des Projektes"
   ],
   "metadata": {
    "collapsed": false,
    "pycharm": {
     "name": "#%% md\n"
    }
   }
  },
  {
   "cell_type": "code",
   "execution_count": 9,
   "outputs": [],
   "source": [
    "from Infos.coder import Coder"
   ],
   "metadata": {
    "collapsed": false,
    "pycharm": {
     "name": "#%%\n"
    }
   }
  },
  {
   "cell_type": "markdown",
   "source": [
    "Wir können uns das current working directory ausgeben lassen:"
   ],
   "metadata": {
    "collapsed": false,
    "pycharm": {
     "name": "#%% md\n"
    }
   }
  },
  {
   "cell_type": "code",
   "execution_count": 6,
   "outputs": [
    {
     "data": {
      "text/plain": "'/Users/christine/Dropbox/Workshops/PyHernstein/Coding/Infos'"
     },
     "execution_count": 6,
     "metadata": {},
     "output_type": "execute_result"
    }
   ],
   "source": [
    "import os\n",
    "os.getcwd()"
   ],
   "metadata": {
    "collapsed": false,
    "pycharm": {
     "name": "#%%\n"
    }
   }
  },
  {
   "cell_type": "markdown",
   "source": [
    "Die project `root` können wir uns in der Python Console ausgeben lassen, oder im Terminal\n",
    "mit `cd` (Windows) bzw. `pwd` (Unix/Linux)"
   ],
   "metadata": {
    "collapsed": false,
    "pycharm": {
     "name": "#%% md\n"
    }
   }
  },
  {
   "cell_type": "markdown",
   "source": [
    "Wir können auch ein Python Package erstellen.\n",
    "Dazu brauchen wir einen Ordner (directory) mit unserem Modul und einer `__init__.py` Datei.\n",
    "Diese Datei führt dazu, dass unsere Software als Python Package erkannt wird.\n",
    "\n",
    "Wir können Klassen schon in der `__init__.py` Datei des Packages importieren, das ermöglicht den direkten\n",
    "Zugriff auf diese Klassen durch bloßes importieren des Packages."
   ],
   "metadata": {
    "collapsed": false,
    "pycharm": {
     "name": "#%% md\n"
    }
   }
  },
  {
   "cell_type": "code",
   "execution_count": 1,
   "outputs": [],
   "source": [
    "import beispiel_pkg"
   ],
   "metadata": {
    "collapsed": false,
    "pycharm": {
     "name": "#%%\n"
    }
   }
  },
  {
   "cell_type": "code",
   "execution_count": 2,
   "outputs": [
    {
     "name": "stdout",
     "output_type": "stream",
     "text": [
      "100100111011110011001100110100001101110010000110\n"
     ]
    },
    {
     "data": {
      "text/plain": "<beispiel_pkg.geheim_chrisi.Geheim at 0x1171843a0>"
     },
     "execution_count": 2,
     "metadata": {},
     "output_type": "execute_result"
    }
   ],
   "source": [
    "beispiel_pkg.Geheim('Hallo!','e')"
   ],
   "metadata": {
    "collapsed": false,
    "pycharm": {
     "name": "#%%\n"
    }
   }
  },
  {
   "cell_type": "code",
   "execution_count": 3,
   "outputs": [
    {
     "name": "stdout",
     "output_type": "stream",
     "text": [
      "Hallo!\n"
     ]
    },
    {
     "data": {
      "text/plain": "<beispiel_pkg.geheim_chrisi.Geheim at 0x11734c5b0>"
     },
     "execution_count": 3,
     "metadata": {},
     "output_type": "execute_result"
    }
   ],
   "source": [
    "beispiel_pkg.Geheim('100100111011110011001100110100001101110010000110','d')"
   ],
   "metadata": {
    "collapsed": false,
    "pycharm": {
     "name": "#%%\n"
    }
   }
  }
 ],
 "metadata": {
  "kernelspec": {
   "display_name": "Python 3",
   "language": "python",
   "name": "python3"
  },
  "language_info": {
   "codemirror_mode": {
    "name": "ipython",
    "version": 2
   },
   "file_extension": ".py",
   "mimetype": "text/x-python",
   "name": "python",
   "nbconvert_exporter": "python",
   "pygments_lexer": "ipython2",
   "version": "2.7.6"
  }
 },
 "nbformat": 4,
 "nbformat_minor": 0
}